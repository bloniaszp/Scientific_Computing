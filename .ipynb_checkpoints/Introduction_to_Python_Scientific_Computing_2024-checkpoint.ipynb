{
 "cells": [
  {
   "cell_type": "markdown",
   "metadata": {
    "id": "FBuYiR3Q65Q3"
   },
   "source": [
    "# Introduction to Very Basic Python (Scientific Computing 2024)"
   ]
  },
  {
   "cell_type": "markdown",
   "metadata": {
    "id": "rqiDRryB8-tZ"
   },
   "source": [
    "## 1. Variables and Basic Data Types (Lecture 3)\n",
    "\n"
   ]
  },
  {
   "cell_type": "markdown",
   "metadata": {
    "id": "i_FAJ4Mp9AI1"
   },
   "source": [
    "Simple Example:"
   ]
  },
  {
   "cell_type": "code",
   "execution_count": null,
   "metadata": {
    "colab": {
     "base_uri": "https://localhost:8080/"
    },
    "id": "B3NOVanL8_rT",
    "outputId": "e5272330-ba84-449f-8651-cb922a4f9056"
   },
   "outputs": [],
   "source": [
    "# This is a comment. \n",
    "# In a code block, if you want to add test \n",
    "# that you want your computer to ignore, add a # in the front of your text.\n",
    "\n",
    "# Variables are containers for storing data values.\n",
    "\n",
    "# String: A series of characters\n",
    "name = \"John Doe\"\n",
    "print(name)\n",
    "\n",
    "# Integer: Whole numbers\n",
    "age = 30\n",
    "print(age)\n",
    "\n",
    "# Float: Decimal numbers\n",
    "height = 5.9\n",
    "print(height)\n",
    "\n",
    "# Boolean: True or False\n",
    "is_adult = True\n",
    "print(is_adult)"
   ]
  },
  {
   "cell_type": "markdown",
   "metadata": {
    "id": "sE8g4tJw4Z43"
   },
   "source": [
    "## 2. Printing to the Console (f string) (Lecture 3)"
   ]
  },
  {
   "cell_type": "markdown",
   "metadata": {
    "id": "pB8foTm9OMOq"
   },
   "source": [
    "Simple Example:"
   ]
  },
  {
   "cell_type": "code",
   "execution_count": null,
   "metadata": {
    "colab": {
     "base_uri": "https://localhost:8080/"
    },
    "id": "azdWtQ2B4QgA",
    "outputId": "0ce5ab32-0c1b-4e67-d260-cb666ddda53f"
   },
   "outputs": [],
   "source": [
    "# Print a message to the console\n",
    "print(\"Hello, Python!\")\n"
   ]
  },
  {
   "cell_type": "code",
   "execution_count": null,
   "metadata": {
    "colab": {
     "base_uri": "https://localhost:8080/"
    },
    "id": "qsjyatvE7_3k",
    "outputId": "c4d3e2d1-186c-4e9c-b300-475a4120360a"
   },
   "outputs": [],
   "source": [
    "name = \"Alice\"\n",
    "age = 30\n",
    "print(f\"Hello, {name}. You are {age} years old.\")\n"
   ]
  },
  {
   "cell_type": "markdown",
   "metadata": {
    "id": "GYM03jVL9QAP"
   },
   "source": [
    "Realistic Example:"
   ]
  },
  {
   "cell_type": "code",
   "execution_count": null,
   "metadata": {
    "colab": {
     "base_uri": "https://localhost:8080/"
    },
    "id": "qBe5v8rl9Rpt",
    "outputId": "cddb938d-e934-4033-b07e-8e8c3ed3dc69"
   },
   "outputs": [],
   "source": [
    "participant_id = \"P1002\"\n",
    "baseline_cognitive_score = 42.0\n",
    "follow_up_cognitive_score = 45.0\n",
    "print(f\"Participant {participant_id} showed an increase of {follow_up_cognitive_score} points in assessment score.\")\n"
   ]
  },
  {
   "cell_type": "markdown",
   "metadata": {
    "id": "7zop3XKk8J7N"
   },
   "source": [
    "Realistic Example:"
   ]
  },
  {
   "cell_type": "code",
   "execution_count": null,
   "metadata": {
    "colab": {
     "base_uri": "https://localhost:8080/"
    },
    "id": "a-FI3CFx8JX3",
    "outputId": "b46556f9-221a-415f-e0f3-b5453ced4caa"
   },
   "outputs": [],
   "source": [
    "drug_name = \"propofol\"\n",
    "dosage = 8.75\n",
    "patient_ID = 1050\n",
    "print(f\"The {drug_name} dosage for patient {patient_ID} is {dosage:.2f}.\")\n"
   ]
  },
  {
   "cell_type": "markdown",
   "metadata": {
    "id": "WYAmBnJB4io4"
   },
   "source": [
    "## 3. Basic Arithmetic Operations (Lecture 3)\n"
   ]
  },
  {
   "cell_type": "markdown",
   "metadata": {
    "id": "I4R8s3FO7eUO"
   },
   "source": [
    "Simple Example:"
   ]
  },
  {
   "cell_type": "code",
   "execution_count": null,
   "metadata": {
    "colab": {
     "base_uri": "https://localhost:8080/"
    },
    "id": "gAmvQIpK4jIu",
    "outputId": "07bf2d99-ee78-4341-eaf2-308f3b41b441"
   },
   "outputs": [],
   "source": [
    "# Addition\n",
    "summation = 7 + 3\n",
    "print(\"Sum:\", summation)\n",
    "\n",
    "# Subtraction\n",
    "difference = 10 - 3\n",
    "print(\"Difference:\", difference)\n",
    "\n",
    "# Multiplication\n",
    "product = 4 * 5\n",
    "print(\"Product:\", product)\n",
    "\n",
    "# Division (floor division)\n",
    "quotient = 20 // 6\n",
    "print(\"Quotient:\", quotient)\n",
    "\n",
    "# Division (standard division)\n",
    "quotient = 20 / 6\n",
    "print(\"Quotient:\", quotient)\n",
    "\n",
    "# Modulus (remainder of division)\n",
    "remainder = 10 % 3\n",
    "print(\"Remainder:\", remainder)\n"
   ]
  },
  {
   "cell_type": "markdown",
   "metadata": {
    "id": "BY_GfMqg-Yhy"
   },
   "source": [
    "Realistic Example:"
   ]
  },
  {
   "cell_type": "code",
   "execution_count": null,
   "metadata": {
    "colab": {
     "base_uri": "https://localhost:8080/"
    },
    "id": "6FcfNeiv-apq",
    "outputId": "2d0ccc3f-ef6e-4457-f80c-ca9ced400494"
   },
   "outputs": [],
   "source": [
    "weight_kg = 70  # in kilograms\n",
    "height_m = 1.75  # in meters\n",
    "bmi = weight_kg / (height_m ** 2)\n",
    "print(f\"The calculated BMI is {bmi:.1f}.\")\n"
   ]
  },
  {
   "cell_type": "markdown",
   "metadata": {
    "id": "i8egeFyn4lIn"
   },
   "source": [
    "## 4. Control Structures (Lecture 4)\n"
   ]
  },
  {
   "cell_type": "markdown",
   "metadata": {
    "id": "D8wwOR434pvc"
   },
   "source": [
    "### If statements"
   ]
  },
  {
   "cell_type": "markdown",
   "metadata": {
    "id": "SjSi4Zz-7fp9"
   },
   "source": [
    "Simple Example:"
   ]
  },
  {
   "cell_type": "code",
   "execution_count": null,
   "metadata": {
    "colab": {
     "base_uri": "https://localhost:8080/"
    },
    "id": "98WwEFvL4njr",
    "outputId": "ed5c8a6a-53a6-434f-fbf1-61465a0fb91b"
   },
   "outputs": [],
   "source": [
    "# Conditional statements to execute different code blocks based on conditions\n",
    "\n",
    "age = 17\n",
    "\n",
    "if age == 18:\n",
    "    print(\"You are an adult.\")\n",
    "elif age > 18:\n",
    "    print(\"You are an older adult.\")\n",
    "else:\n",
    "    print(\"You are not an adult.\")\n",
    "    \n",
    "\n",
    "\n",
    "    \n"
   ]
  },
  {
   "cell_type": "markdown",
   "metadata": {
    "id": "H5w9IOZy4slQ"
   },
   "source": [
    "### For Loops (0 indexing)"
   ]
  },
  {
   "cell_type": "markdown",
   "metadata": {
    "id": "jQ2_h5CP7gpE"
   },
   "source": [
    "Simple Example:"
   ]
  },
  {
   "cell_type": "code",
   "execution_count": null,
   "metadata": {
    "colab": {
     "base_uri": "https://localhost:8080/"
    },
    "id": "5s7t9qsu4t7l",
    "outputId": "19de4eca-dd4d-41c7-de9f-287e1f67711c"
   },
   "outputs": [],
   "source": [
    "# A for loop is used for iterating over a sequence (list, tuple, dictionary, set, or string).\n",
    "\n",
    "for number in range(5):  # Range generates numbers from 0 to 4\n",
    "    print(number)\n"
   ]
  },
  {
   "cell_type": "markdown",
   "metadata": {
    "id": "Tp_CGF-q-hoQ"
   },
   "source": [
    "Realistic Example of Both:"
   ]
  },
  {
   "cell_type": "code",
   "execution_count": null,
   "metadata": {
    "colab": {
     "base_uri": "https://localhost:8080/"
    },
    "id": "_IX1BQNG-j6B",
    "outputId": "94069fdc-2b91-4789-e0d4-5f92ef5d97a9",
    "tags": []
   },
   "outputs": [],
   "source": [
    "measurements = [8.9, 7.5, 5.2, 10.0, 3.6]\n",
    "for measurement in measurements:\n",
    "    if measurement > 8.0: # When True\n",
    "        print(f\"Measurement {measurement} is high.\")\n",
    "    else: # When False\n",
    "        print(f\"Measurement {measurement} is normal.\")\n"
   ]
  },
  {
   "cell_type": "markdown",
   "metadata": {
    "id": "o0t-xXO643ba"
   },
   "source": [
    "## 5. Functions and doc strings (Lecture 5)\n"
   ]
  },
  {
   "cell_type": "markdown",
   "metadata": {
    "id": "QL5dMPCC7hux"
   },
   "source": [
    "Simple Example:"
   ]
  },
  {
   "cell_type": "code",
   "execution_count": null,
   "metadata": {
    "colab": {
     "base_uri": "https://localhost:8080/"
    },
    "id": "4IQ88H0w44Ah",
    "outputId": "f33c3418-04f6-4e8a-82e5-343665ebe2b6"
   },
   "outputs": [],
   "source": [
    "def greet(name):\n",
    "    \"\"\"Prints a greeting to the console.\"\"\"\n",
    "    print(f\"Hello, {name}!\")\n",
    "\n",
    "#greet(\"Alice\")\n",
    "\n",
    "\n",
    "## To do: make addition function\n",
    "\n",
    "def addition(number_1, number_2):\n",
    "    \"\"\"\n",
    "    Description: Adds two numbers together and prints them out as an integer.\n",
    "\n",
    "    Parameters:\n",
    "    - number_1: General integer\n",
    "    - number_2: General integer\n",
    "\n",
    "    Returns:\n",
    "    - A integer (1D)\n",
    "    \"\"\"\n",
    "    print(number_1 + number_2)\n",
    "    \n",
    "    \n",
    "?addition\n",
    "    \n",
    "\n"
   ]
  },
  {
   "cell_type": "markdown",
   "metadata": {
    "id": "AD2vLT7h6K3e"
   },
   "source": [
    "## 6. Lists (Lecture 6)\n"
   ]
  },
  {
   "cell_type": "markdown",
   "metadata": {
    "id": "o-Fwzg627ifY"
   },
   "source": [
    "Simple Example:"
   ]
  },
  {
   "cell_type": "code",
   "execution_count": null,
   "metadata": {
    "tags": []
   },
   "outputs": [],
   "source": [
    "fruits = [] # Create a 'blank piece of paper' to store and order information"
   ]
  },
  {
   "cell_type": "code",
   "execution_count": null,
   "metadata": {
    "tags": []
   },
   "outputs": [],
   "source": [
    "print(fruits)"
   ]
  },
  {
   "cell_type": "code",
   "execution_count": null,
   "metadata": {
    "colab": {
     "base_uri": "https://localhost:8080/"
    },
    "id": "0txE3n0M6Lef",
    "outputId": "f78325b2-0c32-4f0b-f283-819d2a1889de"
   },
   "outputs": [],
   "source": [
    "# A list is a collection which is ordered and changeable.\n",
    "\n",
    "fruits = [\"apple\", \"banana\", \"cherry\"]\n",
    "print(fruits)\n",
    "\n",
    "# Access items by index\n",
    "print(fruits[1])  # Outputs: banana\n",
    "\n",
    "# Add items\n",
    "fruits.append(\"orange\")\n",
    "print(fruits)\n"
   ]
  },
  {
   "cell_type": "code",
   "execution_count": null,
   "metadata": {
    "tags": []
   },
   "outputs": [],
   "source": [
    "fruits[0] = \"grapes\"\n",
    "print(fruits)"
   ]
  },
  {
   "cell_type": "code",
   "execution_count": null,
   "metadata": {
    "tags": []
   },
   "outputs": [],
   "source": [
    "# Remove items\n",
    "fruits.remove(\"banana\")\n",
    "print(fruits)"
   ]
  },
  {
   "cell_type": "markdown",
   "metadata": {
    "id": "TyQFr7m1_N0r"
   },
   "source": [
    "Realistic Example:"
   ]
  },
  {
   "cell_type": "code",
   "execution_count": null,
   "metadata": {
    "colab": {
     "base_uri": "https://localhost:8080/"
    },
    "id": "4XkjIRtj_O3Y",
    "outputId": "627f1290-ed18-444d-9010-d25bd75265de"
   },
   "outputs": [],
   "source": [
    "measurements = []\n",
    "measurements.append(22.5)\n",
    "measurements.append(23.1)\n",
    "measurements.append(22.8)\n",
    "\n",
    "# Calculate the mean\n",
    "mean_measurement = sum(measurements) / len(measurements)\n",
    "print(f\"Mean measurement: {mean_measurement}\")\n"
   ]
  },
  {
   "cell_type": "markdown",
   "metadata": {
    "id": "zZ9lByV96NIM"
   },
   "source": [
    "## 7. Dictionaries (Lecture 6)\n"
   ]
  },
  {
   "cell_type": "markdown",
   "metadata": {
    "id": "hmL8vDrw7jUV"
   },
   "source": [
    "Simple Example:"
   ]
  },
  {
   "cell_type": "code",
   "execution_count": null,
   "metadata": {
    "tags": []
   },
   "outputs": [],
   "source": [
    "person = {}\n",
    "print(person)"
   ]
  },
  {
   "cell_type": "code",
   "execution_count": null,
   "metadata": {
    "colab": {
     "base_uri": "https://localhost:8080/"
    },
    "id": "HmDI90ht6PH2",
    "outputId": "055b638d-129a-4875-fce6-daa90c70c0de"
   },
   "outputs": [],
   "source": [
    "# A dictionary is a collection which is unordered, changeable, and indexed by keys.\n",
    "\n",
    "person = {\n",
    "    \"name\": \"John\",\n",
    "    \"age\": 30,\n",
    "    \"is_adult\": True\n",
    "}\n",
    "\n",
    "print(person)\n",
    "\n",
    "# Access items by key\n",
    "print(person[\"name\"])\n",
    "\n",
    "# Add or update items\n",
    "person[\"height\"] = 5.9\n",
    "print(person)\n",
    "\n",
    "# Remove items\n",
    "del person[\"is_adult\"]\n",
    "print(person)\n"
   ]
  },
  {
   "cell_type": "markdown",
   "metadata": {
    "id": "aSJapSRt_XWr"
   },
   "source": [
    "Realistic Example:"
   ]
  },
  {
   "cell_type": "code",
   "execution_count": null,
   "metadata": {
    "colab": {
     "base_uri": "https://localhost:8080/"
    },
    "id": "84DeNZHj_ZLx",
    "outputId": "703e0096-1af1-4d92-aa30-9e751d9f66f1"
   },
   "outputs": [],
   "source": [
    "experiment_metadata = {\n",
    "    \"experiment_id\": \"EXP2024A\",\n",
    "    \"researcher\": \"Dr. Smith\",\n",
    "    \"date\": \"2024-02-01\",\n",
    "    \"number_of_participants\": 50\n",
    "}\n",
    "print(f\"Experiment ID: {experiment_metadata['experiment_id']}\")\n"
   ]
  },
  {
   "cell_type": "markdown",
   "metadata": {
    "id": "PXi86qf06SFN"
   },
   "source": [
    "## 8. User Input (Lecture 6)\n"
   ]
  },
  {
   "cell_type": "markdown",
   "metadata": {
    "id": "laRMtMXs7j-3"
   },
   "source": [
    "Simple Example:"
   ]
  },
  {
   "cell_type": "code",
   "execution_count": null,
   "metadata": {
    "colab": {
     "base_uri": "https://localhost:8080/"
    },
    "id": "af6E-hCk6SlX",
    "outputId": "31c80f62-3e9e-4cd1-d615-26546eaccd8e"
   },
   "outputs": [],
   "source": [
    "# Capture input from the user\n",
    "\n",
    "name = input(\"Enter your name: \")\n",
    "print(\"Hello, \" + name + \"!\")\n"
   ]
  },
  {
   "cell_type": "markdown",
   "metadata": {
    "id": "CQQvGOdN_bOw"
   },
   "source": [
    "Realistic Example:"
   ]
  },
  {
   "cell_type": "code",
   "execution_count": null,
   "metadata": {
    "colab": {
     "base_uri": "https://localhost:8080/"
    },
    "id": "YIXGARJO_cl3",
    "outputId": "edf64410-e352-42d2-9feb-1185781be12a"
   },
   "outputs": [],
   "source": [
    "weight = float(input(\"Enter your weight in kg: \"))\n",
    "height = float(input(\"Enter your height in meters: \"))\n",
    "bmi = weight / (height ** 2)\n",
    "print(f\"Your BMI is {bmi:.2f}.\")\n"
   ]
  },
  {
   "cell_type": "markdown",
   "metadata": {
    "id": "7GpsQSuC77aI"
   },
   "source": [
    "## 9. Importing Libraries (and Environment Management) (Lecture 7)\n"
   ]
  },
  {
   "cell_type": "markdown",
   "metadata": {
    "id": "csYUeR6p_gMI"
   },
   "source": [
    "Simple Example:"
   ]
  },
  {
   "cell_type": "code",
   "execution_count": null,
   "metadata": {
    "tags": []
   },
   "outputs": [],
   "source": [
    "import math"
   ]
  },
  {
   "cell_type": "code",
   "execution_count": null,
   "metadata": {
    "colab": {
     "base_uri": "https://localhost:8080/"
    },
    "id": "jMeIDOqJ77_q",
    "outputId": "724bac65-0b7b-401a-e9dd-7f4f6ba3a6c2"
   },
   "outputs": [],
   "source": [
    "import math\n",
    "print(math.sqrt(16))\n",
    "\n",
    "# OR INTRODUCE THE NUMPY UNIVERSE\n",
    "\n",
    "import numpy as np\n",
    "data = np.random.normal(loc=0, scale=1, size=1000)\n",
    "print(data[0:10])\n",
    "print(type(data))\n"
   ]
  },
  {
   "cell_type": "markdown",
   "metadata": {
    "id": "EnQuiBnK_may"
   },
   "source": [
    "Realistic Example:"
   ]
  },
  {
   "cell_type": "code",
   "execution_count": null,
   "metadata": {
    "colab": {
     "base_uri": "https://localhost:8080/",
     "height": 489
    },
    "id": "2t3r46TK_qEx",
    "outputId": "a7442310-36d8-4a08-8f9c-86681d5c7764"
   },
   "outputs": [],
   "source": [
    "import numpy as np\n",
    "import matplotlib.pyplot as plt\n",
    "\n",
    "# Generate some data\n",
    "data = np.random.normal(loc=0, scale=1, size=1000)\n",
    "\n",
    "# Calculate mean and standard deviation\n",
    "mean = np.mean(data)\n",
    "std_dev = np.std(data)\n",
    "\n",
    "# Plotting\n",
    "plt.hist(data, bins=30, alpha=0.5, color='blue')\n",
    "plt.title('Histogram of Generated Data')\n",
    "plt.xlabel('Value')\n",
    "plt.ylabel('Frequency')\n",
    "plt.show()\n",
    "\n",
    "print(f\"Mean: {mean}, Standard Deviation: {std_dev}\")\n"
   ]
  },
  {
   "cell_type": "markdown",
   "metadata": {
    "id": "W328koDeAS1X"
   },
   "source": [
    "# Scenario: what can we do with all of our skills (with an example of matplotlib plotting) (Lecture 8)"
   ]
  },
  {
   "cell_type": "markdown",
   "metadata": {
    "id": "xGQemoYxAWYZ"
   },
   "source": [
    "We'll simulate EEG data for a simple experiment with multiple participants. Each participants will have EEG data simulated for alpha (8-12 Hz) and beta (13-30 Hz) oscillations. Our goal is to generate and plot these oscillations, then analyze and label each plot with specific information about the participants and the oscillation type using f-strings. We'll use control structures to iterate through participants and their conditions, and we'll store participants' information in a dictionary.\n",
    "\n"
   ]
  },
  {
   "cell_type": "code",
   "execution_count": null,
   "metadata": {
    "colab": {
     "base_uri": "https://localhost:8080/"
    },
    "id": "t_lD-eFlAVuY",
    "outputId": "9c789769-f438-474f-e009-d02b07e0decb"
   },
   "outputs": [],
   "source": [
    "# Step 1: Setting Up the Environment\n",
    "\n",
    "# This step is assumed to be done in your terminal or appropriate Python environment\n",
    "!pip install numpy matplotlib\n",
    "\n",
    "# Don't use an ! if you are in an IDE terminal like VSCode, Pycharm, or Spyder, the ! is Jupyter specific\n",
    "# pip install numpy matplotlib\n",
    "\n"
   ]
  },
  {
   "cell_type": "code",
   "execution_count": null,
   "metadata": {
    "id": "pUzDMy-GA_S-"
   },
   "outputs": [],
   "source": [
    "# Step 2: Import Libraries\n",
    "\n",
    "import numpy as np\n",
    "import matplotlib.pyplot as plt\n",
    "\n"
   ]
  },
  {
   "cell_type": "code",
   "execution_count": null,
   "metadata": {
    "id": "OYOUhVlxBCEJ"
   },
   "outputs": [],
   "source": [
    "# Step 3: Function to Simulate EEG Data\n",
    "\n",
    "def simulate_eeg(duration=1, sampling_rate=1000, frequency=10):\n",
    "    \"\"\"\n",
    "    Simulates EEG data with a specific oscillation frequency.\n",
    "\n",
    "    Parameters:\n",
    "    - duration: Duration of the signal in seconds.\n",
    "    - sampling_rate: Sampling rate in Hz.\n",
    "    - frequency: Frequency of the EEG oscillation.\n",
    "\n",
    "    Returns:\n",
    "    - A tuple (times, signal): Times is a numpy array of time points, signal is the simulated EEG data.\n",
    "    \"\"\"\n",
    "    times = np.arange(0, duration, 1/sampling_rate)  # time vector\n",
    "    signal = np.sin(2 * np.pi * frequency * times)  # simulate sinusoidal signal\n",
    "    return times, signal\n",
    "\n"
   ]
  },
  {
   "cell_type": "code",
   "execution_count": null,
   "metadata": {
    "id": "ZUWrTPe2BIJF"
   },
   "outputs": [],
   "source": [
    "# Step 4: Subjects Information and Simulation Parameters\n",
    "\n",
    "subjects = {\n",
    "    \"S1\": {\"name\": \"Alice\", \"conditions\": [\"alpha\", \"beta\"]},\n",
    "    \"S2\": {\"name\": \"Bob\", \"conditions\": [\"alpha\", \"beta\"]}\n",
    "}\n",
    "\n",
    "oscillations = {\n",
    "    \"alpha\": 10,  # 10 Hz for simplicity\n",
    "    \"beta\": 20    # 20 Hz for simplicity\n",
    "}\n",
    "\n"
   ]
  },
  {
   "cell_type": "code",
   "execution_count": null,
   "metadata": {
    "colab": {
     "base_uri": "https://localhost:8080/",
     "height": 1000
    },
    "id": "UIP_cR8WBMgv",
    "outputId": "9e90f474-de00-4cce-85b3-350f7912b5a4"
   },
   "outputs": [],
   "source": [
    "# Step 5: Generating and Plotting Data for Each Subject and Condition\n",
    "\n",
    "for subject_id, info in subjects.items():\n",
    "    for condition in info[\"conditions\"]:\n",
    "        frequency = oscillations[condition]\n",
    "        times, signal = simulate_eeg(frequency=frequency)\n",
    "\n",
    "        plt.figure(figsize=(10, 4))\n",
    "        plt.plot(times, signal)\n",
    "        plt.title(f\"Subject: {info['name']} - {condition.capitalize()} Oscillation\")\n",
    "        plt.xlabel(\"Time (s)\")\n",
    "        plt.ylabel(\"Amplitude\")\n",
    "        plt.xlim([0, 1])\n",
    "\n",
    "        # Using f-strings for dynamic labeling\n",
    "        plot_filename = f\"{subject_id}_{condition}_oscillation.png\"\n",
    "        plt.savefig(plot_filename, dpi = 300) # save figure\n",
    "        print(f\"Plot saved for {subject_id} under condition {condition}: {plot_filename}\")\n",
    "\n",
    "        plt.show()\n"
   ]
  },
  {
   "cell_type": "code",
   "execution_count": null,
   "metadata": {},
   "outputs": [],
   "source": []
  }
 ],
 "metadata": {
  "colab": {
   "provenance": []
  },
  "kernelspec": {
   "display_name": "Python 3 (ipykernel)",
   "language": "python",
   "name": "python3"
  },
  "language_info": {
   "codemirror_mode": {
    "name": "ipython",
    "version": 3
   },
   "file_extension": ".py",
   "mimetype": "text/x-python",
   "name": "python",
   "nbconvert_exporter": "python",
   "pygments_lexer": "ipython3",
   "version": "3.11.5"
  }
 },
 "nbformat": 4,
 "nbformat_minor": 4
}
